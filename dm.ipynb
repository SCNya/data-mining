{
 "cells": [
  {
   "cell_type": "code",
   "execution_count": 6,
   "id": "b5011a29",
   "metadata": {},
   "outputs": [
    {
     "name": "stdout",
     "output_type": "stream",
     "text": [
      "Данные успешно загружены и объединены.\n",
      "Размер итоговой таблицы: (7983826, 26)\n",
      "                   timestamp     amount currency  amount_usd\n",
      "0 2024-09-30 00:00:01.034820     294.87      GBP  394.658011\n",
      "1 2024-09-30 00:00:01.764464    3368.97      BRL  619.905757\n",
      "2 2024-09-30 00:00:02.273762  102582.38      JPY  719.506409\n",
      "3 2024-09-30 00:00:02.297466     630.60      AUD  436.808287\n",
      "4 2024-09-30 00:00:02.544063  724949.27      NGN  434.430069\n"
     ]
    },
    {
     "name": "stderr",
     "output_type": "stream",
     "text": [
      "/var/folders/xh/mw1w5hgd6m77043z9f2fy9sc0000gn/T/ipykernel_6001/127257743.py:37: FutureWarning: A value is trying to be set on a copy of a DataFrame or Series through chained assignment using an inplace method.\n",
      "The behavior will change in pandas 3.0. This inplace method will never work because the intermediate object on which we are setting values always behaves as a copy.\n",
      "\n",
      "For example, when doing 'df[col].method(value, inplace=True)', try using 'df.method({col: value}, inplace=True)' or df[col] = df[col].method(value) instead, to perform the operation inplace on the original object.\n",
      "\n",
      "\n",
      "  df['rate_to_usd'].fillna(1, inplace=True)\n"
     ]
    }
   ],
   "source": [
    "import pandas as pd\n",
    "\n",
    "# Загрузка данных\n",
    "try:\n",
    "    transactions = pd.read_parquet('transaction_fraud_data.parquet')\n",
    "    exchange_rates = pd.read_parquet('historical_currency_exchange.parquet')\n",
    "except FileNotFoundError:\n",
    "    print(\"Убедитесь, что файлы 'transaction_fraud_data.parquet' и 'historical_currency_exchange.parquet' находятся в той же папке.\")\n",
    "    # Создадим пустые датафреймы для предотвращения ошибок ниже\n",
    "    transactions = pd.DataFrame()\n",
    "    exchange_rates = pd.DataFrame()\n",
    "\n",
    "if not transactions.empty:\n",
    "    # Преобразование формата для объединения\n",
    "    transactions['date'] = pd.to_datetime(transactions['timestamp'].dt.date)\n",
    "    exchange_rates['date'] = pd.to_datetime(exchange_rates['date'])\n",
    "\n",
    "    # Подготовка таблицы с курсами для удобного объединения\n",
    "    exchange_rates_long = exchange_rates.melt(\n",
    "        id_vars=['date'], \n",
    "        var_name='currency', \n",
    "        value_name='rate_to_usd'\n",
    "    )\n",
    "    # Добавляем USD, курс которого всегда 1\n",
    "    usd_rates = pd.DataFrame({\n",
    "        'date': exchange_rates['date'],\n",
    "        'currency': 'USD',\n",
    "        'rate_to_usd': 1.0\n",
    "    })\n",
    "    exchange_rates_long = pd.concat([exchange_rates_long, usd_rates], ignore_index=True)\n",
    "\n",
    "    # Объединение данных о транзакциях с курсами валют\n",
    "    df = pd.merge(transactions, exchange_rates_long, on=['date', 'currency'], how='left')\n",
    "\n",
    "    # Конвертация суммы в USD\n",
    "    # Для валют, отсутствующих в справочнике, курс будет NaN, что мы заменим на 1 (без конвертации)\n",
    "    df['rate_to_usd'].fillna(1, inplace=True)\n",
    "    df['amount_usd'] = df['amount'] / df['rate_to_usd']\n",
    "    \n",
    "    print(\"Данные успешно загружены и объединены.\")\n",
    "    print(f\"Размер итоговой таблицы: {df.shape}\")\n",
    "    print(df[['timestamp', 'amount', 'currency', 'amount_usd']].head())\n",
    "    "
   ]
  },
  {
   "cell_type": "code",
   "execution_count": 7,
   "id": "fc0c4fa4",
   "metadata": {},
   "outputs": [
    {
     "name": "stdout",
     "output_type": "stream",
     "text": [
      "Данные готовы для обучения модели.\n"
     ]
    }
   ],
   "source": [
    "from sklearn.model_selection import train_test_split\n",
    "from sklearn.preprocessing import StandardScaler, OneHotEncoder\n",
    "from sklearn.compose import ColumnTransformer\n",
    "from sklearn.pipeline import Pipeline\n",
    "\n",
    "if not transactions.empty:\n",
    "    # 1. Разворачиваем вложенную структуру last_hour_activity\n",
    "    last_hour_df = pd.json_normalize(df['last_hour_activity'])\n",
    "    df = pd.concat([df, last_hour_df], axis=1)\n",
    "\n",
    "    # 2. Создаем новый признак - час совершения транзакции\n",
    "    df['hour_of_day'] = df['timestamp'].dt.hour\n",
    "\n",
    "    # 3. Определяем признаки для модели (X) и целевую переменную (y)\n",
    "    y = df['is_fraud']\n",
    "    \n",
    "    # Выбираем подмножество признаков для \"легкой\" модели\n",
    "    features = [\n",
    "        # Числовые признаки\n",
    "        'amount_usd', \n",
    "        'num_transactions', \n",
    "        'total_amount', \n",
    "        'unique_merchants', \n",
    "        'unique_countries', \n",
    "        'max_single_amount',\n",
    "        'hour_of_day',\n",
    "        # Категориальные признаки\n",
    "        'vendor_category', \n",
    "        'card_type', \n",
    "        'channel',\n",
    "        # Бинарные признаки\n",
    "        'is_card_present', \n",
    "        'is_outside_home_country', \n",
    "        'is_high_risk_vendor', \n",
    "        'is_weekend'\n",
    "    ]\n",
    "    X = df[features]\n",
    "\n",
    "    # 4. Разделение данных на обучающую и тестовую выборки\n",
    "    X_train, X_test, y_train, y_test = train_test_split(\n",
    "        X, y, \n",
    "        test_size=0.3, \n",
    "        random_state=42, \n",
    "        stratify=y  # Важно для несбалансированных данных\n",
    "    )\n",
    "\n",
    "    # 5. Создание пайплайна для предобработки данных\n",
    "    # Определяем, какие колонки числовые, а какие категориальные\n",
    "    numeric_features = X.select_dtypes(include=['int64', 'float64', 'int32']).columns.tolist()\n",
    "    categorical_features = X.select_dtypes(include=['object', 'category']).columns.tolist()\n",
    "    \n",
    "    # Для бинарных признаков (boolean) не требуется специальная обработка,\n",
    "    # но для чистоты пайплайна их можно пропустить через 'passthrough'\n",
    "    boolean_features = X.select_dtypes(include=['bool']).columns.tolist()\n",
    "    numeric_features = list(set(numeric_features) - set(boolean_features))\n",
    "\n",
    "\n",
    "    # Создаем трансформеры\n",
    "    numeric_transformer = StandardScaler()\n",
    "    categorical_transformer = OneHotEncoder(handle_unknown='ignore')\n",
    "\n",
    "    # Собираем все в ColumnTransformer\n",
    "    preprocessor = ColumnTransformer(\n",
    "        transformers=[\n",
    "            ('num', numeric_transformer, numeric_features),\n",
    "            ('cat', categorical_transformer, categorical_features),\n",
    "            ('bool', 'passthrough', boolean_features) \n",
    "        ])\n",
    "    \n",
    "    print(\"Данные готовы для обучения модели.\")"
   ]
  },
  {
   "cell_type": "code",
   "execution_count": null,
   "id": "ff04cc43",
   "metadata": {},
   "outputs": [
    {
     "name": "stdout",
     "output_type": "stream",
     "text": [
      "--- Отчет по классификации ---\n",
      "              precision    recall  f1-score   support\n",
      "\n",
      "   Not Fraud       0.98      0.85      0.91   1935539\n",
      "       Fraud       0.59      0.91      0.71    459609\n",
      "\n",
      "    accuracy                           0.86   2395148\n",
      "   macro avg       0.78      0.88      0.81   2395148\n",
      "weighted avg       0.90      0.86      0.87   2395148\n",
      "\n",
      "AUC-ROC Score: 0.9563\n"
     ]
    },
    {
     "data": {
      "image/png": "[encoded data removed]",
      "text/plain": [
       "<Figure size 800x600 with 2 Axes>"
      ]
     },
     "metadata": {},
     "output_type": "display_data"
    }
   ],
   "source": [
    "from sklearn.linear_model import LogisticRegression\n",
    "from sklearn.metrics import classification_report, roc_auc_score, confusion_matrix\n",
    "import seaborn as sns\n",
    "import matplotlib.pyplot as plt\n",
    "\n",
    "if not transactions.empty:\n",
    "    # Создание итогового пайплайна с предобработкой и моделью\n",
    "    model_pipeline = Pipeline(steps=[\n",
    "        ('preprocessor', preprocessor),\n",
    "        ('classifier', LogisticRegression(random_state=42, class_weight='balanced', max_iter=1000))\n",
    "    ])\n",
    "\n",
    "    # Обучение модели\n",
    "    model_pipeline.fit(X_train, y_train)\n",
    "\n",
    "    # Получение предсказаний\n",
    "    y_pred = model_pipeline.predict(X_test)\n",
    "    y_pred_proba = model_pipeline.predict_proba(X_test)[:, 1]\n",
    "\n",
    "    # Оценка качества модели\n",
    "    print(\"--- Отчет по классификации ---\")\n",
    "    print(classification_report(y_test, y_pred, target_names=['Not Fraud', 'Fraud']))\n",
    "\n",
    "    auc_score = roc_auc_score(y_test, y_pred_proba)\n",
    "    print(f\"AUC-ROC Score: {auc_score:.4f}\")\n",
    "\n",
    "    # Визуализация матрицы ошибок\n",
    "    cm = confusion_matrix(y_test, y_pred)\n",
    "    plt.figure(figsize=(8, 6))\n",
    "    sns.heatmap(cm, annot=True, fmt='d', cmap='Blues', xticklabels=['Not Fraud', 'Fraud'], yticklabels=['Not Fraud', 'Fraud'])\n",
    "    plt.title('Матрица ошибок')\n",
    "    plt.xlabel('Предсказанный класс')\n",
    "    plt.ylabel('Истинный класс')\n",
    "    plt.show()"
   ]
  }
 ],
 "metadata": {
  "kernelspec": {
   "display_name": "data-mining (3.13.5)",
   "language": "python",
   "name": "python3"
  },
  "language_info": {
   "codemirror_mode": {
    "name": "ipython",
    "version": 3
   },
   "file_extension": ".py",
   "mimetype": "text/x-python",
   "name": "python",
   "nbconvert_exporter": "python",
   "pygments_lexer": "ipython3",
   "version": "3.13.5"
  }
 },
 "nbformat": 4,
 "nbformat_minor": 5
}
